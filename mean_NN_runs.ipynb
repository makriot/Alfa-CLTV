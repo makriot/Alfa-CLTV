{
 "cells": [
  {
   "cell_type": "code",
   "execution_count": 55,
   "id": "429e1d18",
   "metadata": {},
   "outputs": [],
   "source": [
    "import os\n",
    "run = \"v3part\""
   ]
  },
  {
   "cell_type": "code",
   "execution_count": 56,
   "id": "80549b6d",
   "metadata": {},
   "outputs": [],
   "source": [
    "rez = []\n",
    "for it in os.listdir(run):\n",
    "    work_dir = os.path.join(run, it)\n",
    "    with open(os.path.join(work_dir, \"cross_val_rez.txt\"), \"r\") as f:\n",
    "        lines = f.readlines()\n",
    "    rez.append((float(lines[0].strip()), it))"
   ]
  },
  {
   "cell_type": "code",
   "execution_count": 57,
   "id": "7ed14543",
   "metadata": {},
   "outputs": [],
   "source": [
    "rez.sort()"
   ]
  },
  {
   "cell_type": "code",
   "execution_count": 58,
   "id": "4bf20841",
   "metadata": {},
   "outputs": [],
   "source": [
    "rez = rez[::-1]"
   ]
  },
  {
   "cell_type": "code",
   "execution_count": 59,
   "id": "0028357b",
   "metadata": {},
   "outputs": [],
   "source": [
    "wds = [x[1] for x in rez]#[:3]"
   ]
  },
  {
   "cell_type": "code",
   "execution_count": 60,
   "id": "25ca18b0",
   "metadata": {},
   "outputs": [
    {
     "data": {
      "text/plain": [
       "['1', '3', '2', '0', '4']"
      ]
     },
     "execution_count": 60,
     "metadata": {},
     "output_type": "execute_result"
    }
   ],
   "source": [
    "wds"
   ]
  },
  {
   "cell_type": "code",
   "execution_count": 61,
   "id": "f78e1563",
   "metadata": {},
   "outputs": [],
   "source": [
    "import pandas as pd\n",
    "trains = []\n",
    "tests = []\n",
    "for wd in wds:\n",
    "    work_dir = os.path.join(run, wd)\n",
    "    train = pd.read_csv(os.path.join(work_dir, \"train.csv\")).drop(columns=[\"Unnamed: 0\"])\n",
    "    test = pd.read_csv(os.path.join(work_dir, \"test.csv\")).drop(columns=[\"Unnamed: 0\"])\n",
    "    order = train.columns.values\n",
    "    trains.append(train.values)\n",
    "    tests.append(test.values)\n",
    "    "
   ]
  },
  {
   "cell_type": "code",
   "execution_count": 62,
   "id": "2ab985dd",
   "metadata": {},
   "outputs": [],
   "source": [
    "import numpy as np\n",
    "train_mean = np.stack(trains).mean(axis=0)\n",
    "test_mean = np.stack(tests).mean(axis=0)"
   ]
  },
  {
   "cell_type": "code",
   "execution_count": 63,
   "id": "b2254a85",
   "metadata": {},
   "outputs": [],
   "source": [
    "train_df = pd.DataFrame(train_mean, columns=order)\n",
    "test_df = pd.DataFrame(test_mean, columns=order)"
   ]
  },
  {
   "cell_type": "code",
   "execution_count": 64,
   "id": "cb5c7b48",
   "metadata": {},
   "outputs": [],
   "source": [
    "train_df.to_csv(\"consolidated_train_\" + run + '.csv')\n",
    "test_df.to_csv(\"consolidated_test_\" + run + '.csv')"
   ]
  },
  {
   "cell_type": "code",
   "execution_count": 65,
   "id": "5e9dc2e2",
   "metadata": {},
   "outputs": [],
   "source": [
    "from sklearn.metrics import roc_auc_score\n",
    "def weighted_roc_auc(y_true, y_pred, labels, weights_dict):\n",
    "    unnorm_weights = np.array([weights_dict[label] for label in labels])\n",
    "    weights = unnorm_weights / unnorm_weights.sum()\n",
    "    classes_roc_auc = roc_auc_score(y_true, y_pred, #labels=labels,\n",
    "                                    multi_class=\"ovr\", average=None)\n",
    "    return sum(weights * classes_roc_auc)\n",
    "\n",
    "cluster_weights = pd.read_excel(\"./cluster_weights.xlsx\").set_index(\"cluster\")\n",
    "weights_dict = cluster_weights[\"unnorm_weight\"].to_dict()\n",
    "\n",
    "\n",
    "train = pd.read_parquet('train_data.pqt', engine='pyarrow')\n",
    "y_train = train[train.date==\"month_3\"].copy().reset_index()[\"end_cluster\"].values\n",
    "label2pos = {x:e for e, x in enumerate(order)}\n",
    "y_train_id = [label2pos[x] for x in y_train]"
   ]
  },
  {
   "cell_type": "code",
   "execution_count": 66,
   "id": "d3d825f7",
   "metadata": {},
   "outputs": [
    {
     "data": {
      "text/plain": [
       "0.9127856109158521"
      ]
     },
     "execution_count": 66,
     "metadata": {},
     "output_type": "execute_result"
    }
   ],
   "source": [
    "weighted_roc_auc(y_train_id, train_mean, order, weights_dict)"
   ]
  },
  {
   "cell_type": "code",
   "execution_count": 54,
   "id": "d162d270",
   "metadata": {},
   "outputs": [
    {
     "data": {
      "text/plain": [
       "{α}          375947\n",
       "{}            78803\n",
       "{α, η}        43824\n",
       "{α, γ}        32790\n",
       "{other}       31813\n",
       "{α, β}         9869\n",
       "{α, δ}         8537\n",
       "{α, ε}         5843\n",
       "{α, θ}         4968\n",
       "{α, ψ}         3000\n",
       "{α, μ}         1341\n",
       "{α, ε, η}      1207\n",
       "{α, ε, θ}       851\n",
       "{α, λ}          739\n",
       "{α, ε, ψ}       374\n",
       "{λ}              69\n",
       "{α, π}           25\n",
       "Name: start_cluster, dtype: int64"
      ]
     },
     "execution_count": 54,
     "metadata": {},
     "output_type": "execute_result"
    }
   ],
   "source": [
    "train.start_cluster.value_counts()"
   ]
  },
  {
   "cell_type": "code",
   "execution_count": 26,
   "id": "91017f96",
   "metadata": {},
   "outputs": [
    {
     "data": {
      "text/plain": [
       "{α, μ}       682\n",
       "{α}          389\n",
       "{other}      199\n",
       "{}            38\n",
       "{α, η}        14\n",
       "{α, γ}         7\n",
       "{α, β}         5\n",
       "{α, θ}         3\n",
       "{α, ε, η}      2\n",
       "{α, δ}         1\n",
       "{α, ε}         1\n",
       "Name: end_cluster, dtype: int64"
      ]
     },
     "execution_count": 26,
     "metadata": {},
     "output_type": "execute_result"
    }
   ],
   "source": [
    "train[train[\"start_cluster\"] == '{α, μ}'].end_cluster.value_counts()"
   ]
  },
  {
   "cell_type": "code",
   "execution_count": null,
   "id": "441b2910",
   "metadata": {},
   "outputs": [],
   "source": []
  }
 ],
 "metadata": {
  "kernelspec": {
   "display_name": "Python 3 (ipykernel)",
   "language": "python",
   "name": "python3"
  },
  "language_info": {
   "codemirror_mode": {
    "name": "ipython",
    "version": 3
   },
   "file_extension": ".py",
   "mimetype": "text/x-python",
   "name": "python",
   "nbconvert_exporter": "python",
   "pygments_lexer": "ipython3",
   "version": "3.11.3"
  }
 },
 "nbformat": 4,
 "nbformat_minor": 5
}
